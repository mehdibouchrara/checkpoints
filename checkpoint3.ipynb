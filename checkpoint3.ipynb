{
 "cells": [
  {
   "cell_type": "code",
   "execution_count": 4,
   "metadata": {},
   "outputs": [],
   "source": [
    "import pandas as pd\n",
    "import numpy as np\n",
    "import seaborn as sns\n",
    "import matplotlib.pyplot as plt"
   ]
  },
  {
   "cell_type": "markdown",
   "metadata": {},
   "source": [
    "## Question 1 :"
   ]
  },
  {
   "cell_type": "code",
   "execution_count": 16,
   "metadata": {},
   "outputs": [
    {
     "data": {
      "text/plain": [
       "id               0\n",
       "date             0\n",
       "price            0\n",
       "bedrooms         0\n",
       "bathrooms        0\n",
       "sqft_living      0\n",
       "sqft_lot         0\n",
       "floors           0\n",
       "waterfront       0\n",
       "view             0\n",
       "condition        0\n",
       "grade            0\n",
       "sqft_above       0\n",
       "sqft_basement    0\n",
       "yr_built         0\n",
       "yr_renovated     0\n",
       "zipcode          0\n",
       "lat              0\n",
       "long             0\n",
       "sqft_living15    0\n",
       "sqft_lot15       0\n",
       "dtype: int64"
      ]
     },
     "execution_count": 16,
     "metadata": {},
     "output_type": "execute_result"
    }
   ],
   "source": [
    "data.isnull().sum()"
   ]
  },
  {
   "cell_type": "code",
   "execution_count": 3,
   "metadata": {},
   "outputs": [
    {
     "data": {
      "text/html": [
       "<div>\n",
       "<style scoped>\n",
       "    .dataframe tbody tr th:only-of-type {\n",
       "        vertical-align: middle;\n",
       "    }\n",
       "\n",
       "    .dataframe tbody tr th {\n",
       "        vertical-align: top;\n",
       "    }\n",
       "\n",
       "    .dataframe thead th {\n",
       "        text-align: right;\n",
       "    }\n",
       "</style>\n",
       "<table border=\"1\" class=\"dataframe\">\n",
       "  <thead>\n",
       "    <tr style=\"text-align: right;\">\n",
       "      <th></th>\n",
       "      <th>id</th>\n",
       "      <th>date</th>\n",
       "      <th>price</th>\n",
       "      <th>bedrooms</th>\n",
       "      <th>bathrooms</th>\n",
       "      <th>sqft_living</th>\n",
       "      <th>sqft_lot</th>\n",
       "      <th>floors</th>\n",
       "      <th>waterfront</th>\n",
       "      <th>view</th>\n",
       "      <th>...</th>\n",
       "      <th>grade</th>\n",
       "      <th>sqft_above</th>\n",
       "      <th>sqft_basement</th>\n",
       "      <th>yr_built</th>\n",
       "      <th>yr_renovated</th>\n",
       "      <th>zipcode</th>\n",
       "      <th>lat</th>\n",
       "      <th>long</th>\n",
       "      <th>sqft_living15</th>\n",
       "      <th>sqft_lot15</th>\n",
       "    </tr>\n",
       "  </thead>\n",
       "  <tbody>\n",
       "    <tr>\n",
       "      <td>0</td>\n",
       "      <td>7129300520</td>\n",
       "      <td>20141013T000000</td>\n",
       "      <td>221900.0</td>\n",
       "      <td>3</td>\n",
       "      <td>1.00</td>\n",
       "      <td>1180</td>\n",
       "      <td>5650</td>\n",
       "      <td>1.0</td>\n",
       "      <td>0</td>\n",
       "      <td>0</td>\n",
       "      <td>...</td>\n",
       "      <td>7</td>\n",
       "      <td>1180</td>\n",
       "      <td>0</td>\n",
       "      <td>1955</td>\n",
       "      <td>0</td>\n",
       "      <td>98178</td>\n",
       "      <td>47.5112</td>\n",
       "      <td>-122.257</td>\n",
       "      <td>1340</td>\n",
       "      <td>5650</td>\n",
       "    </tr>\n",
       "    <tr>\n",
       "      <td>1</td>\n",
       "      <td>6414100192</td>\n",
       "      <td>20141209T000000</td>\n",
       "      <td>538000.0</td>\n",
       "      <td>3</td>\n",
       "      <td>2.25</td>\n",
       "      <td>2570</td>\n",
       "      <td>7242</td>\n",
       "      <td>2.0</td>\n",
       "      <td>0</td>\n",
       "      <td>0</td>\n",
       "      <td>...</td>\n",
       "      <td>7</td>\n",
       "      <td>2170</td>\n",
       "      <td>400</td>\n",
       "      <td>1951</td>\n",
       "      <td>1991</td>\n",
       "      <td>98125</td>\n",
       "      <td>47.7210</td>\n",
       "      <td>-122.319</td>\n",
       "      <td>1690</td>\n",
       "      <td>7639</td>\n",
       "    </tr>\n",
       "    <tr>\n",
       "      <td>2</td>\n",
       "      <td>5631500400</td>\n",
       "      <td>20150225T000000</td>\n",
       "      <td>180000.0</td>\n",
       "      <td>2</td>\n",
       "      <td>1.00</td>\n",
       "      <td>770</td>\n",
       "      <td>10000</td>\n",
       "      <td>1.0</td>\n",
       "      <td>0</td>\n",
       "      <td>0</td>\n",
       "      <td>...</td>\n",
       "      <td>6</td>\n",
       "      <td>770</td>\n",
       "      <td>0</td>\n",
       "      <td>1933</td>\n",
       "      <td>0</td>\n",
       "      <td>98028</td>\n",
       "      <td>47.7379</td>\n",
       "      <td>-122.233</td>\n",
       "      <td>2720</td>\n",
       "      <td>8062</td>\n",
       "    </tr>\n",
       "    <tr>\n",
       "      <td>3</td>\n",
       "      <td>2487200875</td>\n",
       "      <td>20141209T000000</td>\n",
       "      <td>604000.0</td>\n",
       "      <td>4</td>\n",
       "      <td>3.00</td>\n",
       "      <td>1960</td>\n",
       "      <td>5000</td>\n",
       "      <td>1.0</td>\n",
       "      <td>0</td>\n",
       "      <td>0</td>\n",
       "      <td>...</td>\n",
       "      <td>7</td>\n",
       "      <td>1050</td>\n",
       "      <td>910</td>\n",
       "      <td>1965</td>\n",
       "      <td>0</td>\n",
       "      <td>98136</td>\n",
       "      <td>47.5208</td>\n",
       "      <td>-122.393</td>\n",
       "      <td>1360</td>\n",
       "      <td>5000</td>\n",
       "    </tr>\n",
       "    <tr>\n",
       "      <td>4</td>\n",
       "      <td>1954400510</td>\n",
       "      <td>20150218T000000</td>\n",
       "      <td>510000.0</td>\n",
       "      <td>3</td>\n",
       "      <td>2.00</td>\n",
       "      <td>1680</td>\n",
       "      <td>8080</td>\n",
       "      <td>1.0</td>\n",
       "      <td>0</td>\n",
       "      <td>0</td>\n",
       "      <td>...</td>\n",
       "      <td>8</td>\n",
       "      <td>1680</td>\n",
       "      <td>0</td>\n",
       "      <td>1987</td>\n",
       "      <td>0</td>\n",
       "      <td>98074</td>\n",
       "      <td>47.6168</td>\n",
       "      <td>-122.045</td>\n",
       "      <td>1800</td>\n",
       "      <td>7503</td>\n",
       "    </tr>\n",
       "    <tr>\n",
       "      <td>5</td>\n",
       "      <td>7237550310</td>\n",
       "      <td>20140512T000000</td>\n",
       "      <td>1225000.0</td>\n",
       "      <td>4</td>\n",
       "      <td>4.50</td>\n",
       "      <td>5420</td>\n",
       "      <td>101930</td>\n",
       "      <td>1.0</td>\n",
       "      <td>0</td>\n",
       "      <td>0</td>\n",
       "      <td>...</td>\n",
       "      <td>11</td>\n",
       "      <td>3890</td>\n",
       "      <td>1530</td>\n",
       "      <td>2001</td>\n",
       "      <td>0</td>\n",
       "      <td>98053</td>\n",
       "      <td>47.6561</td>\n",
       "      <td>-122.005</td>\n",
       "      <td>4760</td>\n",
       "      <td>101930</td>\n",
       "    </tr>\n",
       "    <tr>\n",
       "      <td>6</td>\n",
       "      <td>1321400060</td>\n",
       "      <td>20140627T000000</td>\n",
       "      <td>257500.0</td>\n",
       "      <td>3</td>\n",
       "      <td>2.25</td>\n",
       "      <td>1715</td>\n",
       "      <td>6819</td>\n",
       "      <td>2.0</td>\n",
       "      <td>0</td>\n",
       "      <td>0</td>\n",
       "      <td>...</td>\n",
       "      <td>7</td>\n",
       "      <td>1715</td>\n",
       "      <td>0</td>\n",
       "      <td>1995</td>\n",
       "      <td>0</td>\n",
       "      <td>98003</td>\n",
       "      <td>47.3097</td>\n",
       "      <td>-122.327</td>\n",
       "      <td>2238</td>\n",
       "      <td>6819</td>\n",
       "    </tr>\n",
       "  </tbody>\n",
       "</table>\n",
       "<p>7 rows × 21 columns</p>\n",
       "</div>"
      ],
      "text/plain": [
       "           id             date      price  bedrooms  bathrooms  sqft_living  \\\n",
       "0  7129300520  20141013T000000   221900.0         3       1.00         1180   \n",
       "1  6414100192  20141209T000000   538000.0         3       2.25         2570   \n",
       "2  5631500400  20150225T000000   180000.0         2       1.00          770   \n",
       "3  2487200875  20141209T000000   604000.0         4       3.00         1960   \n",
       "4  1954400510  20150218T000000   510000.0         3       2.00         1680   \n",
       "5  7237550310  20140512T000000  1225000.0         4       4.50         5420   \n",
       "6  1321400060  20140627T000000   257500.0         3       2.25         1715   \n",
       "\n",
       "   sqft_lot  floors  waterfront  view  ...  grade  sqft_above  sqft_basement  \\\n",
       "0      5650     1.0           0     0  ...      7        1180              0   \n",
       "1      7242     2.0           0     0  ...      7        2170            400   \n",
       "2     10000     1.0           0     0  ...      6         770              0   \n",
       "3      5000     1.0           0     0  ...      7        1050            910   \n",
       "4      8080     1.0           0     0  ...      8        1680              0   \n",
       "5    101930     1.0           0     0  ...     11        3890           1530   \n",
       "6      6819     2.0           0     0  ...      7        1715              0   \n",
       "\n",
       "   yr_built  yr_renovated  zipcode      lat     long  sqft_living15  \\\n",
       "0      1955             0    98178  47.5112 -122.257           1340   \n",
       "1      1951          1991    98125  47.7210 -122.319           1690   \n",
       "2      1933             0    98028  47.7379 -122.233           2720   \n",
       "3      1965             0    98136  47.5208 -122.393           1360   \n",
       "4      1987             0    98074  47.6168 -122.045           1800   \n",
       "5      2001             0    98053  47.6561 -122.005           4760   \n",
       "6      1995             0    98003  47.3097 -122.327           2238   \n",
       "\n",
       "   sqft_lot15  \n",
       "0        5650  \n",
       "1        7639  \n",
       "2        8062  \n",
       "3        5000  \n",
       "4        7503  \n",
       "5      101930  \n",
       "6        6819  \n",
       "\n",
       "[7 rows x 21 columns]"
      ]
     },
     "execution_count": 3,
     "metadata": {},
     "output_type": "execute_result"
    }
   ],
   "source": [
    "data = pd.read_csv('kc_house_data.csv')\n",
    "data.head(7)"
   ]
  },
  {
   "cell_type": "code",
   "execution_count": 8,
   "metadata": {
    "scrolled": false
   },
   "outputs": [
    {
     "data": {
      "text/html": [
       "<div>\n",
       "<style scoped>\n",
       "    .dataframe tbody tr th:only-of-type {\n",
       "        vertical-align: middle;\n",
       "    }\n",
       "\n",
       "    .dataframe tbody tr th {\n",
       "        vertical-align: top;\n",
       "    }\n",
       "\n",
       "    .dataframe thead th {\n",
       "        text-align: right;\n",
       "    }\n",
       "</style>\n",
       "<table border=\"1\" class=\"dataframe\">\n",
       "  <thead>\n",
       "    <tr style=\"text-align: right;\">\n",
       "      <th></th>\n",
       "      <th>id</th>\n",
       "      <th>price</th>\n",
       "      <th>bedrooms</th>\n",
       "      <th>bathrooms</th>\n",
       "      <th>sqft_living</th>\n",
       "      <th>sqft_lot</th>\n",
       "      <th>floors</th>\n",
       "      <th>waterfront</th>\n",
       "      <th>view</th>\n",
       "      <th>condition</th>\n",
       "      <th>grade</th>\n",
       "      <th>sqft_above</th>\n",
       "      <th>sqft_basement</th>\n",
       "      <th>yr_built</th>\n",
       "      <th>yr_renovated</th>\n",
       "      <th>zipcode</th>\n",
       "      <th>lat</th>\n",
       "      <th>long</th>\n",
       "      <th>sqft_living15</th>\n",
       "      <th>sqft_lot15</th>\n",
       "    </tr>\n",
       "  </thead>\n",
       "  <tbody>\n",
       "    <tr>\n",
       "      <td>id</td>\n",
       "      <td>1.000000</td>\n",
       "      <td>-0.016762</td>\n",
       "      <td>0.001286</td>\n",
       "      <td>0.005160</td>\n",
       "      <td>-0.012258</td>\n",
       "      <td>-0.132109</td>\n",
       "      <td>0.018525</td>\n",
       "      <td>-0.002721</td>\n",
       "      <td>0.011592</td>\n",
       "      <td>-0.023783</td>\n",
       "      <td>0.008130</td>\n",
       "      <td>-0.010842</td>\n",
       "      <td>-0.005151</td>\n",
       "      <td>0.021380</td>\n",
       "      <td>-0.016907</td>\n",
       "      <td>-0.008224</td>\n",
       "      <td>-0.001891</td>\n",
       "      <td>0.020799</td>\n",
       "      <td>-0.002901</td>\n",
       "      <td>-0.138798</td>\n",
       "    </tr>\n",
       "    <tr>\n",
       "      <td>price</td>\n",
       "      <td>-0.016762</td>\n",
       "      <td>1.000000</td>\n",
       "      <td>0.308350</td>\n",
       "      <td>0.525138</td>\n",
       "      <td>0.702035</td>\n",
       "      <td>0.089661</td>\n",
       "      <td>0.256794</td>\n",
       "      <td>0.266369</td>\n",
       "      <td>0.397293</td>\n",
       "      <td>0.036362</td>\n",
       "      <td>0.667434</td>\n",
       "      <td>0.605567</td>\n",
       "      <td>0.323816</td>\n",
       "      <td>0.054012</td>\n",
       "      <td>0.126434</td>\n",
       "      <td>-0.053203</td>\n",
       "      <td>0.307003</td>\n",
       "      <td>0.021626</td>\n",
       "      <td>0.585379</td>\n",
       "      <td>0.082447</td>\n",
       "    </tr>\n",
       "    <tr>\n",
       "      <td>bedrooms</td>\n",
       "      <td>0.001286</td>\n",
       "      <td>0.308350</td>\n",
       "      <td>1.000000</td>\n",
       "      <td>0.515884</td>\n",
       "      <td>0.576671</td>\n",
       "      <td>0.031703</td>\n",
       "      <td>0.175429</td>\n",
       "      <td>-0.006582</td>\n",
       "      <td>0.079532</td>\n",
       "      <td>0.028472</td>\n",
       "      <td>0.356967</td>\n",
       "      <td>0.477600</td>\n",
       "      <td>0.303093</td>\n",
       "      <td>0.154178</td>\n",
       "      <td>0.018841</td>\n",
       "      <td>-0.152668</td>\n",
       "      <td>-0.008931</td>\n",
       "      <td>0.129473</td>\n",
       "      <td>0.391638</td>\n",
       "      <td>0.029244</td>\n",
       "    </tr>\n",
       "    <tr>\n",
       "      <td>bathrooms</td>\n",
       "      <td>0.005160</td>\n",
       "      <td>0.525138</td>\n",
       "      <td>0.515884</td>\n",
       "      <td>1.000000</td>\n",
       "      <td>0.754665</td>\n",
       "      <td>0.087740</td>\n",
       "      <td>0.500653</td>\n",
       "      <td>0.063744</td>\n",
       "      <td>0.187737</td>\n",
       "      <td>-0.124982</td>\n",
       "      <td>0.664983</td>\n",
       "      <td>0.685342</td>\n",
       "      <td>0.283770</td>\n",
       "      <td>0.506019</td>\n",
       "      <td>0.050739</td>\n",
       "      <td>-0.203866</td>\n",
       "      <td>0.024573</td>\n",
       "      <td>0.223042</td>\n",
       "      <td>0.568634</td>\n",
       "      <td>0.087175</td>\n",
       "    </tr>\n",
       "    <tr>\n",
       "      <td>sqft_living</td>\n",
       "      <td>-0.012258</td>\n",
       "      <td>0.702035</td>\n",
       "      <td>0.576671</td>\n",
       "      <td>0.754665</td>\n",
       "      <td>1.000000</td>\n",
       "      <td>0.172826</td>\n",
       "      <td>0.353949</td>\n",
       "      <td>0.103818</td>\n",
       "      <td>0.284611</td>\n",
       "      <td>-0.058753</td>\n",
       "      <td>0.762704</td>\n",
       "      <td>0.876597</td>\n",
       "      <td>0.435043</td>\n",
       "      <td>0.318049</td>\n",
       "      <td>0.055363</td>\n",
       "      <td>-0.199430</td>\n",
       "      <td>0.052529</td>\n",
       "      <td>0.240223</td>\n",
       "      <td>0.756420</td>\n",
       "      <td>0.183286</td>\n",
       "    </tr>\n",
       "    <tr>\n",
       "      <td>sqft_lot</td>\n",
       "      <td>-0.132109</td>\n",
       "      <td>0.089661</td>\n",
       "      <td>0.031703</td>\n",
       "      <td>0.087740</td>\n",
       "      <td>0.172826</td>\n",
       "      <td>1.000000</td>\n",
       "      <td>-0.005201</td>\n",
       "      <td>0.021604</td>\n",
       "      <td>0.074710</td>\n",
       "      <td>-0.008958</td>\n",
       "      <td>0.113621</td>\n",
       "      <td>0.183512</td>\n",
       "      <td>0.015286</td>\n",
       "      <td>0.053080</td>\n",
       "      <td>0.007644</td>\n",
       "      <td>-0.129574</td>\n",
       "      <td>-0.085683</td>\n",
       "      <td>0.229521</td>\n",
       "      <td>0.144608</td>\n",
       "      <td>0.718557</td>\n",
       "    </tr>\n",
       "    <tr>\n",
       "      <td>floors</td>\n",
       "      <td>0.018525</td>\n",
       "      <td>0.256794</td>\n",
       "      <td>0.175429</td>\n",
       "      <td>0.500653</td>\n",
       "      <td>0.353949</td>\n",
       "      <td>-0.005201</td>\n",
       "      <td>1.000000</td>\n",
       "      <td>0.023698</td>\n",
       "      <td>0.029444</td>\n",
       "      <td>-0.263768</td>\n",
       "      <td>0.458183</td>\n",
       "      <td>0.523885</td>\n",
       "      <td>-0.245705</td>\n",
       "      <td>0.489319</td>\n",
       "      <td>0.006338</td>\n",
       "      <td>-0.059121</td>\n",
       "      <td>0.049614</td>\n",
       "      <td>0.125419</td>\n",
       "      <td>0.279885</td>\n",
       "      <td>-0.011269</td>\n",
       "    </tr>\n",
       "    <tr>\n",
       "      <td>waterfront</td>\n",
       "      <td>-0.002721</td>\n",
       "      <td>0.266369</td>\n",
       "      <td>-0.006582</td>\n",
       "      <td>0.063744</td>\n",
       "      <td>0.103818</td>\n",
       "      <td>0.021604</td>\n",
       "      <td>0.023698</td>\n",
       "      <td>1.000000</td>\n",
       "      <td>0.401857</td>\n",
       "      <td>0.016653</td>\n",
       "      <td>0.082775</td>\n",
       "      <td>0.072075</td>\n",
       "      <td>0.080588</td>\n",
       "      <td>-0.026161</td>\n",
       "      <td>0.092885</td>\n",
       "      <td>0.030285</td>\n",
       "      <td>-0.014274</td>\n",
       "      <td>-0.041910</td>\n",
       "      <td>0.086463</td>\n",
       "      <td>0.030703</td>\n",
       "    </tr>\n",
       "    <tr>\n",
       "      <td>view</td>\n",
       "      <td>0.011592</td>\n",
       "      <td>0.397293</td>\n",
       "      <td>0.079532</td>\n",
       "      <td>0.187737</td>\n",
       "      <td>0.284611</td>\n",
       "      <td>0.074710</td>\n",
       "      <td>0.029444</td>\n",
       "      <td>0.401857</td>\n",
       "      <td>1.000000</td>\n",
       "      <td>0.045990</td>\n",
       "      <td>0.251321</td>\n",
       "      <td>0.167649</td>\n",
       "      <td>0.276947</td>\n",
       "      <td>-0.053440</td>\n",
       "      <td>0.103917</td>\n",
       "      <td>0.084827</td>\n",
       "      <td>0.006157</td>\n",
       "      <td>-0.078400</td>\n",
       "      <td>0.280439</td>\n",
       "      <td>0.072575</td>\n",
       "    </tr>\n",
       "    <tr>\n",
       "      <td>condition</td>\n",
       "      <td>-0.023783</td>\n",
       "      <td>0.036362</td>\n",
       "      <td>0.028472</td>\n",
       "      <td>-0.124982</td>\n",
       "      <td>-0.058753</td>\n",
       "      <td>-0.008958</td>\n",
       "      <td>-0.263768</td>\n",
       "      <td>0.016653</td>\n",
       "      <td>0.045990</td>\n",
       "      <td>1.000000</td>\n",
       "      <td>-0.144674</td>\n",
       "      <td>-0.158214</td>\n",
       "      <td>0.174105</td>\n",
       "      <td>-0.361417</td>\n",
       "      <td>-0.060618</td>\n",
       "      <td>0.003026</td>\n",
       "      <td>-0.014941</td>\n",
       "      <td>-0.106500</td>\n",
       "      <td>-0.092824</td>\n",
       "      <td>-0.003406</td>\n",
       "    </tr>\n",
       "    <tr>\n",
       "      <td>grade</td>\n",
       "      <td>0.008130</td>\n",
       "      <td>0.667434</td>\n",
       "      <td>0.356967</td>\n",
       "      <td>0.664983</td>\n",
       "      <td>0.762704</td>\n",
       "      <td>0.113621</td>\n",
       "      <td>0.458183</td>\n",
       "      <td>0.082775</td>\n",
       "      <td>0.251321</td>\n",
       "      <td>-0.144674</td>\n",
       "      <td>1.000000</td>\n",
       "      <td>0.755923</td>\n",
       "      <td>0.168392</td>\n",
       "      <td>0.446963</td>\n",
       "      <td>0.014414</td>\n",
       "      <td>-0.184862</td>\n",
       "      <td>0.114084</td>\n",
       "      <td>0.198372</td>\n",
       "      <td>0.713202</td>\n",
       "      <td>0.119248</td>\n",
       "    </tr>\n",
       "    <tr>\n",
       "      <td>sqft_above</td>\n",
       "      <td>-0.010842</td>\n",
       "      <td>0.605567</td>\n",
       "      <td>0.477600</td>\n",
       "      <td>0.685342</td>\n",
       "      <td>0.876597</td>\n",
       "      <td>0.183512</td>\n",
       "      <td>0.523885</td>\n",
       "      <td>0.072075</td>\n",
       "      <td>0.167649</td>\n",
       "      <td>-0.158214</td>\n",
       "      <td>0.755923</td>\n",
       "      <td>1.000000</td>\n",
       "      <td>-0.051943</td>\n",
       "      <td>0.423898</td>\n",
       "      <td>0.023285</td>\n",
       "      <td>-0.261190</td>\n",
       "      <td>-0.000816</td>\n",
       "      <td>0.343803</td>\n",
       "      <td>0.731870</td>\n",
       "      <td>0.194050</td>\n",
       "    </tr>\n",
       "    <tr>\n",
       "      <td>sqft_basement</td>\n",
       "      <td>-0.005151</td>\n",
       "      <td>0.323816</td>\n",
       "      <td>0.303093</td>\n",
       "      <td>0.283770</td>\n",
       "      <td>0.435043</td>\n",
       "      <td>0.015286</td>\n",
       "      <td>-0.245705</td>\n",
       "      <td>0.080588</td>\n",
       "      <td>0.276947</td>\n",
       "      <td>0.174105</td>\n",
       "      <td>0.168392</td>\n",
       "      <td>-0.051943</td>\n",
       "      <td>1.000000</td>\n",
       "      <td>-0.133124</td>\n",
       "      <td>0.071323</td>\n",
       "      <td>0.074845</td>\n",
       "      <td>0.110538</td>\n",
       "      <td>-0.144765</td>\n",
       "      <td>0.200355</td>\n",
       "      <td>0.017276</td>\n",
       "    </tr>\n",
       "    <tr>\n",
       "      <td>yr_built</td>\n",
       "      <td>0.021380</td>\n",
       "      <td>0.054012</td>\n",
       "      <td>0.154178</td>\n",
       "      <td>0.506019</td>\n",
       "      <td>0.318049</td>\n",
       "      <td>0.053080</td>\n",
       "      <td>0.489319</td>\n",
       "      <td>-0.026161</td>\n",
       "      <td>-0.053440</td>\n",
       "      <td>-0.361417</td>\n",
       "      <td>0.446963</td>\n",
       "      <td>0.423898</td>\n",
       "      <td>-0.133124</td>\n",
       "      <td>1.000000</td>\n",
       "      <td>-0.224874</td>\n",
       "      <td>-0.346869</td>\n",
       "      <td>-0.148122</td>\n",
       "      <td>0.409356</td>\n",
       "      <td>0.326229</td>\n",
       "      <td>0.070958</td>\n",
       "    </tr>\n",
       "    <tr>\n",
       "      <td>yr_renovated</td>\n",
       "      <td>-0.016907</td>\n",
       "      <td>0.126434</td>\n",
       "      <td>0.018841</td>\n",
       "      <td>0.050739</td>\n",
       "      <td>0.055363</td>\n",
       "      <td>0.007644</td>\n",
       "      <td>0.006338</td>\n",
       "      <td>0.092885</td>\n",
       "      <td>0.103917</td>\n",
       "      <td>-0.060618</td>\n",
       "      <td>0.014414</td>\n",
       "      <td>0.023285</td>\n",
       "      <td>0.071323</td>\n",
       "      <td>-0.224874</td>\n",
       "      <td>1.000000</td>\n",
       "      <td>0.064357</td>\n",
       "      <td>0.029398</td>\n",
       "      <td>-0.068372</td>\n",
       "      <td>-0.002673</td>\n",
       "      <td>0.007854</td>\n",
       "    </tr>\n",
       "    <tr>\n",
       "      <td>zipcode</td>\n",
       "      <td>-0.008224</td>\n",
       "      <td>-0.053203</td>\n",
       "      <td>-0.152668</td>\n",
       "      <td>-0.203866</td>\n",
       "      <td>-0.199430</td>\n",
       "      <td>-0.129574</td>\n",
       "      <td>-0.059121</td>\n",
       "      <td>0.030285</td>\n",
       "      <td>0.084827</td>\n",
       "      <td>0.003026</td>\n",
       "      <td>-0.184862</td>\n",
       "      <td>-0.261190</td>\n",
       "      <td>0.074845</td>\n",
       "      <td>-0.346869</td>\n",
       "      <td>0.064357</td>\n",
       "      <td>1.000000</td>\n",
       "      <td>0.267048</td>\n",
       "      <td>-0.564072</td>\n",
       "      <td>-0.279033</td>\n",
       "      <td>-0.147221</td>\n",
       "    </tr>\n",
       "    <tr>\n",
       "      <td>lat</td>\n",
       "      <td>-0.001891</td>\n",
       "      <td>0.307003</td>\n",
       "      <td>-0.008931</td>\n",
       "      <td>0.024573</td>\n",
       "      <td>0.052529</td>\n",
       "      <td>-0.085683</td>\n",
       "      <td>0.049614</td>\n",
       "      <td>-0.014274</td>\n",
       "      <td>0.006157</td>\n",
       "      <td>-0.014941</td>\n",
       "      <td>0.114084</td>\n",
       "      <td>-0.000816</td>\n",
       "      <td>0.110538</td>\n",
       "      <td>-0.148122</td>\n",
       "      <td>0.029398</td>\n",
       "      <td>0.267048</td>\n",
       "      <td>1.000000</td>\n",
       "      <td>-0.135512</td>\n",
       "      <td>0.048858</td>\n",
       "      <td>-0.086419</td>\n",
       "    </tr>\n",
       "    <tr>\n",
       "      <td>long</td>\n",
       "      <td>0.020799</td>\n",
       "      <td>0.021626</td>\n",
       "      <td>0.129473</td>\n",
       "      <td>0.223042</td>\n",
       "      <td>0.240223</td>\n",
       "      <td>0.229521</td>\n",
       "      <td>0.125419</td>\n",
       "      <td>-0.041910</td>\n",
       "      <td>-0.078400</td>\n",
       "      <td>-0.106500</td>\n",
       "      <td>0.198372</td>\n",
       "      <td>0.343803</td>\n",
       "      <td>-0.144765</td>\n",
       "      <td>0.409356</td>\n",
       "      <td>-0.068372</td>\n",
       "      <td>-0.564072</td>\n",
       "      <td>-0.135512</td>\n",
       "      <td>1.000000</td>\n",
       "      <td>0.334605</td>\n",
       "      <td>0.254451</td>\n",
       "    </tr>\n",
       "    <tr>\n",
       "      <td>sqft_living15</td>\n",
       "      <td>-0.002901</td>\n",
       "      <td>0.585379</td>\n",
       "      <td>0.391638</td>\n",
       "      <td>0.568634</td>\n",
       "      <td>0.756420</td>\n",
       "      <td>0.144608</td>\n",
       "      <td>0.279885</td>\n",
       "      <td>0.086463</td>\n",
       "      <td>0.280439</td>\n",
       "      <td>-0.092824</td>\n",
       "      <td>0.713202</td>\n",
       "      <td>0.731870</td>\n",
       "      <td>0.200355</td>\n",
       "      <td>0.326229</td>\n",
       "      <td>-0.002673</td>\n",
       "      <td>-0.279033</td>\n",
       "      <td>0.048858</td>\n",
       "      <td>0.334605</td>\n",
       "      <td>1.000000</td>\n",
       "      <td>0.183192</td>\n",
       "    </tr>\n",
       "    <tr>\n",
       "      <td>sqft_lot15</td>\n",
       "      <td>-0.138798</td>\n",
       "      <td>0.082447</td>\n",
       "      <td>0.029244</td>\n",
       "      <td>0.087175</td>\n",
       "      <td>0.183286</td>\n",
       "      <td>0.718557</td>\n",
       "      <td>-0.011269</td>\n",
       "      <td>0.030703</td>\n",
       "      <td>0.072575</td>\n",
       "      <td>-0.003406</td>\n",
       "      <td>0.119248</td>\n",
       "      <td>0.194050</td>\n",
       "      <td>0.017276</td>\n",
       "      <td>0.070958</td>\n",
       "      <td>0.007854</td>\n",
       "      <td>-0.147221</td>\n",
       "      <td>-0.086419</td>\n",
       "      <td>0.254451</td>\n",
       "      <td>0.183192</td>\n",
       "      <td>1.000000</td>\n",
       "    </tr>\n",
       "  </tbody>\n",
       "</table>\n",
       "</div>"
      ],
      "text/plain": [
       "                     id     price  bedrooms  bathrooms  sqft_living  sqft_lot  \\\n",
       "id             1.000000 -0.016762  0.001286   0.005160    -0.012258 -0.132109   \n",
       "price         -0.016762  1.000000  0.308350   0.525138     0.702035  0.089661   \n",
       "bedrooms       0.001286  0.308350  1.000000   0.515884     0.576671  0.031703   \n",
       "bathrooms      0.005160  0.525138  0.515884   1.000000     0.754665  0.087740   \n",
       "sqft_living   -0.012258  0.702035  0.576671   0.754665     1.000000  0.172826   \n",
       "sqft_lot      -0.132109  0.089661  0.031703   0.087740     0.172826  1.000000   \n",
       "floors         0.018525  0.256794  0.175429   0.500653     0.353949 -0.005201   \n",
       "waterfront    -0.002721  0.266369 -0.006582   0.063744     0.103818  0.021604   \n",
       "view           0.011592  0.397293  0.079532   0.187737     0.284611  0.074710   \n",
       "condition     -0.023783  0.036362  0.028472  -0.124982    -0.058753 -0.008958   \n",
       "grade          0.008130  0.667434  0.356967   0.664983     0.762704  0.113621   \n",
       "sqft_above    -0.010842  0.605567  0.477600   0.685342     0.876597  0.183512   \n",
       "sqft_basement -0.005151  0.323816  0.303093   0.283770     0.435043  0.015286   \n",
       "yr_built       0.021380  0.054012  0.154178   0.506019     0.318049  0.053080   \n",
       "yr_renovated  -0.016907  0.126434  0.018841   0.050739     0.055363  0.007644   \n",
       "zipcode       -0.008224 -0.053203 -0.152668  -0.203866    -0.199430 -0.129574   \n",
       "lat           -0.001891  0.307003 -0.008931   0.024573     0.052529 -0.085683   \n",
       "long           0.020799  0.021626  0.129473   0.223042     0.240223  0.229521   \n",
       "sqft_living15 -0.002901  0.585379  0.391638   0.568634     0.756420  0.144608   \n",
       "sqft_lot15    -0.138798  0.082447  0.029244   0.087175     0.183286  0.718557   \n",
       "\n",
       "                 floors  waterfront      view  condition     grade  \\\n",
       "id             0.018525   -0.002721  0.011592  -0.023783  0.008130   \n",
       "price          0.256794    0.266369  0.397293   0.036362  0.667434   \n",
       "bedrooms       0.175429   -0.006582  0.079532   0.028472  0.356967   \n",
       "bathrooms      0.500653    0.063744  0.187737  -0.124982  0.664983   \n",
       "sqft_living    0.353949    0.103818  0.284611  -0.058753  0.762704   \n",
       "sqft_lot      -0.005201    0.021604  0.074710  -0.008958  0.113621   \n",
       "floors         1.000000    0.023698  0.029444  -0.263768  0.458183   \n",
       "waterfront     0.023698    1.000000  0.401857   0.016653  0.082775   \n",
       "view           0.029444    0.401857  1.000000   0.045990  0.251321   \n",
       "condition     -0.263768    0.016653  0.045990   1.000000 -0.144674   \n",
       "grade          0.458183    0.082775  0.251321  -0.144674  1.000000   \n",
       "sqft_above     0.523885    0.072075  0.167649  -0.158214  0.755923   \n",
       "sqft_basement -0.245705    0.080588  0.276947   0.174105  0.168392   \n",
       "yr_built       0.489319   -0.026161 -0.053440  -0.361417  0.446963   \n",
       "yr_renovated   0.006338    0.092885  0.103917  -0.060618  0.014414   \n",
       "zipcode       -0.059121    0.030285  0.084827   0.003026 -0.184862   \n",
       "lat            0.049614   -0.014274  0.006157  -0.014941  0.114084   \n",
       "long           0.125419   -0.041910 -0.078400  -0.106500  0.198372   \n",
       "sqft_living15  0.279885    0.086463  0.280439  -0.092824  0.713202   \n",
       "sqft_lot15    -0.011269    0.030703  0.072575  -0.003406  0.119248   \n",
       "\n",
       "               sqft_above  sqft_basement  yr_built  yr_renovated   zipcode  \\\n",
       "id              -0.010842      -0.005151  0.021380     -0.016907 -0.008224   \n",
       "price            0.605567       0.323816  0.054012      0.126434 -0.053203   \n",
       "bedrooms         0.477600       0.303093  0.154178      0.018841 -0.152668   \n",
       "bathrooms        0.685342       0.283770  0.506019      0.050739 -0.203866   \n",
       "sqft_living      0.876597       0.435043  0.318049      0.055363 -0.199430   \n",
       "sqft_lot         0.183512       0.015286  0.053080      0.007644 -0.129574   \n",
       "floors           0.523885      -0.245705  0.489319      0.006338 -0.059121   \n",
       "waterfront       0.072075       0.080588 -0.026161      0.092885  0.030285   \n",
       "view             0.167649       0.276947 -0.053440      0.103917  0.084827   \n",
       "condition       -0.158214       0.174105 -0.361417     -0.060618  0.003026   \n",
       "grade            0.755923       0.168392  0.446963      0.014414 -0.184862   \n",
       "sqft_above       1.000000      -0.051943  0.423898      0.023285 -0.261190   \n",
       "sqft_basement   -0.051943       1.000000 -0.133124      0.071323  0.074845   \n",
       "yr_built         0.423898      -0.133124  1.000000     -0.224874 -0.346869   \n",
       "yr_renovated     0.023285       0.071323 -0.224874      1.000000  0.064357   \n",
       "zipcode         -0.261190       0.074845 -0.346869      0.064357  1.000000   \n",
       "lat             -0.000816       0.110538 -0.148122      0.029398  0.267048   \n",
       "long             0.343803      -0.144765  0.409356     -0.068372 -0.564072   \n",
       "sqft_living15    0.731870       0.200355  0.326229     -0.002673 -0.279033   \n",
       "sqft_lot15       0.194050       0.017276  0.070958      0.007854 -0.147221   \n",
       "\n",
       "                    lat      long  sqft_living15  sqft_lot15  \n",
       "id            -0.001891  0.020799      -0.002901   -0.138798  \n",
       "price          0.307003  0.021626       0.585379    0.082447  \n",
       "bedrooms      -0.008931  0.129473       0.391638    0.029244  \n",
       "bathrooms      0.024573  0.223042       0.568634    0.087175  \n",
       "sqft_living    0.052529  0.240223       0.756420    0.183286  \n",
       "sqft_lot      -0.085683  0.229521       0.144608    0.718557  \n",
       "floors         0.049614  0.125419       0.279885   -0.011269  \n",
       "waterfront    -0.014274 -0.041910       0.086463    0.030703  \n",
       "view           0.006157 -0.078400       0.280439    0.072575  \n",
       "condition     -0.014941 -0.106500      -0.092824   -0.003406  \n",
       "grade          0.114084  0.198372       0.713202    0.119248  \n",
       "sqft_above    -0.000816  0.343803       0.731870    0.194050  \n",
       "sqft_basement  0.110538 -0.144765       0.200355    0.017276  \n",
       "yr_built      -0.148122  0.409356       0.326229    0.070958  \n",
       "yr_renovated   0.029398 -0.068372      -0.002673    0.007854  \n",
       "zipcode        0.267048 -0.564072      -0.279033   -0.147221  \n",
       "lat            1.000000 -0.135512       0.048858   -0.086419  \n",
       "long          -0.135512  1.000000       0.334605    0.254451  \n",
       "sqft_living15  0.048858  0.334605       1.000000    0.183192  \n",
       "sqft_lot15    -0.086419  0.254451       0.183192    1.000000  "
      ]
     },
     "execution_count": 8,
     "metadata": {},
     "output_type": "execute_result"
    }
   ],
   "source": [
    "data.corr()"
   ]
  },
  {
   "cell_type": "code",
   "execution_count": 21,
   "metadata": {},
   "outputs": [],
   "source": [
    "data['bathrooms']=data['bathrooms'].apply(lambda x:round(x))\n",
    "data['bedrooms']=data['bedrooms'].apply(lambda x:round(x))\n",
    "data['floors']=data['floors'].apply(lambda x:round(x))"
   ]
  },
  {
   "cell_type": "code",
   "execution_count": 9,
   "metadata": {},
   "outputs": [
    {
     "data": {
      "text/plain": [
       "<matplotlib.axes._subplots.AxesSubplot at 0xbff7408>"
      ]
     },
     "execution_count": 9,
     "metadata": {},
     "output_type": "execute_result"
    },
    {
     "data": {
      "image/png": "[encoded data removed]",
      "text/plain": [
       "<Figure size 432x288 with 1 Axes>"
      ]
     },
     "metadata": {
      "needs_background": "light"
     },
     "output_type": "display_data"
    }
   ],
   "source": [
    "sns.barplot(x = 'sqft_living', y = 'price', data = data)"
   ]
  },
  {
   "cell_type": "code",
   "execution_count": 10,
   "metadata": {},
   "outputs": [
    {
     "data": {
      "text/plain": [
       "<matplotlib.axes._subplots.AxesSubplot at 0xc916f88>"
      ]
     },
     "execution_count": 10,
     "metadata": {},
     "output_type": "execute_result"
    },
    {
     "data": {
      "image/png": "[encoded data removed]",
      "text/plain": [
       "<Figure size 432x288 with 1 Axes>"
      ]
     },
     "metadata": {
      "needs_background": "light"
     },
     "output_type": "display_data"
    }
   ],
   "source": [
    "sns.barplot(x = 'floors', y = 'price', data = data) "
   ]
  },
  {
   "cell_type": "code",
   "execution_count": 11,
   "metadata": {},
   "outputs": [
    {
     "data": {
      "text/plain": [
       "<matplotlib.axes._subplots.AxesSubplot at 0xfe85cc8>"
      ]
     },
     "execution_count": 11,
     "metadata": {},
     "output_type": "execute_result"
    },
    {
     "data": {
      "image/png": "[encoded data removed]",
      "text/plain": [
       "<Figure size 432x288 with 1 Axes>"
      ]
     },
     "metadata": {
      "needs_background": "light"
     },
     "output_type": "display_data"
    }
   ],
   "source": [
    "sns.barplot(x = 'bedrooms', y = 'price', data = data)"
   ]
  },
  {
   "cell_type": "code",
   "execution_count": 12,
   "metadata": {},
   "outputs": [
    {
     "data": {
      "text/plain": [
       "<matplotlib.axes._subplots.AxesSubplot at 0xfdbf108>"
      ]
     },
     "execution_count": 12,
     "metadata": {},
     "output_type": "execute_result"
    },
    {
     "data": {
      "image/png": "[encoded data removed]",
      "text/plain": [
       "<Figure size 432x288 with 1 Axes>"
      ]
     },
     "metadata": {
      "needs_background": "light"
     },
     "output_type": "display_data"
    }
   ],
   "source": [
    "sns.barplot(x = 'grade', y = 'price', data = data)"
   ]
  },
  {
   "cell_type": "code",
   "execution_count": 13,
   "metadata": {},
   "outputs": [
    {
     "data": {
      "text/plain": [
       "<matplotlib.axes._subplots.AxesSubplot at 0xfe38348>"
      ]
     },
     "execution_count": 13,
     "metadata": {},
     "output_type": "execute_result"
    },
    {
     "data": {
      "image/png": "[encoded data removed]",
      "text/plain": [
       "<Figure size 432x288 with 1 Axes>"
      ]
     },
     "metadata": {
      "needs_background": "light"
     },
     "output_type": "display_data"
    }
   ],
   "source": [
    "sns.barplot(x = 'view', y = 'price', data = data)"
   ]
  },
  {
   "cell_type": "code",
   "execution_count": 14,
   "metadata": {},
   "outputs": [
    {
     "data": {
      "text/plain": [
       "<matplotlib.axes._subplots.AxesSubplot at 0xfcb5888>"
      ]
     },
     "execution_count": 14,
     "metadata": {},
     "output_type": "execute_result"
    },
    {
     "data": {
      "image/png": "[encoded data removed]",
      "text/plain": [
       "<Figure size 432x288 with 1 Axes>"
      ]
     },
     "metadata": {
      "needs_background": "light"
     },
     "output_type": "display_data"
    }
   ],
   "source": [
    "sns.barplot(x = 'waterfront', y = 'price', data = data)"
   ]
  },
  {
   "cell_type": "code",
   "execution_count": 18,
   "metadata": {},
   "outputs": [
    {
     "data": {
      "text/plain": [
       "<matplotlib.axes._subplots.AxesSubplot at 0x1ac59488>"
      ]
     },
     "execution_count": 18,
     "metadata": {},
     "output_type": "execute_result"
    },
    {
     "data": {
      "image/png": "[encoded data removed]",
      "text/plain": [
       "<Figure size 432x288 with 1 Axes>"
      ]
     },
     "metadata": {
      "needs_background": "light"
     },
     "output_type": "display_data"
    }
   ],
   "source": [
    "sns.barplot(x = 'sqft_living15', y = 'price', data = data)"
   ]
  },
  {
   "cell_type": "code",
   "execution_count": 9,
   "metadata": {},
   "outputs": [
    {
     "data": {
      "text/plain": [
       "<matplotlib.axes._subplots.AxesSubplot at 0xbff7408>"
      ]
     },
     "execution_count": 9,
     "metadata": {},
     "output_type": "execute_result"
    },
    {
     "data": {
      "image/png": "[encoded data removed]",
      "text/plain": [
       "<Figure size 432x288 with 1 Axes>"
      ]
     },
     "metadata": {
      "needs_background": "light"
     },
     "output_type": "display_data"
    }
   ],
   "source": [
    "sns.barplot(x = 'sqft_living', y = 'price', data = data)"
   ]
  },
  {
   "cell_type": "code",
   "execution_count": 22,
   "metadata": {},
   "outputs": [
    {
     "data": {
      "text/plain": [
       "<matplotlib.axes._subplots.AxesSubplot at 0x1f1e9f48>"
      ]
     },
     "execution_count": 22,
     "metadata": {},
     "output_type": "execute_result"
    },
    {
     "data": {
      "image/png": "[encoded data removed]",
      "text/plain": [
       "<Figure size 432x288 with 1 Axes>"
      ]
     },
     "metadata": {
      "needs_background": "light"
     },
     "output_type": "display_data"
    }
   ],
   "source": [
    "sns.barplot(x = 'floors', y = 'price', data = data)"
   ]
  },
  {
   "cell_type": "markdown",
   "metadata": {},
   "source": [
    "## Question 2 :"
   ]
  },
  {
   "cell_type": "markdown",
   "metadata": {},
   "source": [
    "\n",
    "#### from these diagrams and the correlation table we can conclude that the most important characteristics that influence the price of houses are (Top 3) : sqft_living with correlation value of 0.70 then the grade with 0.66 and finaly sqft_above with 0.60. Also, there are other features that infulence but with less correlation values like view, water_front, sqft_living15"
   ]
  },
  {
   "cell_type": "markdown",
   "metadata": {},
   "source": [
    "# Question 3 :"
   ]
  },
  {
   "cell_type": "code",
   "execution_count": 36,
   "metadata": {},
   "outputs": [
    {
     "name": "stdout",
     "output_type": "stream",
     "text": [
      "MSE : 66520040908.336136\n",
      "R squared : 0.46931023543913863\n"
     ]
    },
    {
     "data": {
      "text/plain": [
       "<function matplotlib.pyplot.show(*args, **kw)>"
      ]
     },
     "execution_count": 36,
     "metadata": {},
     "output_type": "execute_result"
    },
    {
     "data": {
      "image/png": "[encoded data removed]",
      "text/plain": [
       "<Figure size 432x288 with 1 Axes>"
      ]
     },
     "metadata": {
      "needs_background": "light"
     },
     "output_type": "display_data"
    }
   ],
   "source": [
    "from sklearn.model_selection import train_test_split\n",
    "from sklearn.linear_model import LinearRegression\n",
    "from sklearn import metrics\n",
    "X=data['grade'].values[:,np.newaxis]\n",
    "y=data['price'].values\n",
    "X_train,X_test,y_train,y_test = train_test_split(X,y,test_size=0.20,random_state=30)\n",
    "model=LinearRegression()\n",
    "model.fit(X_train, y_train)\n",
    "predicted=model.predict(X_test)\n",
    "print(\"MSE :\",metrics.mean_squared_error(y_test,predicted))\n",
    "print(\"R squared :\",metrics.r2_score(y_test,predicted))\n",
    "plt.scatter(X,y, color='r')\n",
    "plt.title(\"linear regression\")\n",
    "plt.ylabel(\"price\")\n",
    "plt.xlabel(\"grade\")\n",
    "plt.plot(X,model.predict(X),color='k')\n",
    "plt.show"
   ]
  },
  {
   "cell_type": "code",
   "execution_count": 37,
   "metadata": {},
   "outputs": [
    {
     "name": "stdout",
     "output_type": "stream",
     "text": [
      "MSE : 64179676631.68387\n",
      "R squared : 0.4879814110728806\n"
     ]
    },
    {
     "data": {
      "text/plain": [
       "<function matplotlib.pyplot.show(*args, **kw)>"
      ]
     },
     "execution_count": 37,
     "metadata": {},
     "output_type": "execute_result"
    },
    {
     "data": {
      "image/png": "[encoded data removed]",
      "text/plain": [
       "<Figure size 432x288 with 1 Axes>"
      ]
     },
     "metadata": {
      "needs_background": "light"
     },
     "output_type": "display_data"
    }
   ],
   "source": [
    "X=data['sqft_living'].values[:,np.newaxis]\n",
    "y=data['price'].values\n",
    "X_train,X_test,y_train,y_test = train_test_split(X,y,test_size=0.20,random_state=30)\n",
    "model=LinearRegression()\n",
    "model.fit(X_train, y_train)\n",
    "predicted=model.predict(X_test)\n",
    "print(\"MSE :\",metrics.mean_squared_error(y_test,predicted))\n",
    "print(\"R squared :\",metrics.r2_score(y_test,predicted))\n",
    "plt.scatter(X,y, color='r')\n",
    "plt.title(\"linear regression\")\n",
    "plt.ylabel(\"price\")\n",
    "plt.xlabel(\"sqft_living\")\n",
    "plt.plot(X,model.predict(X),color='k')\n",
    "plt.show"
   ]
  },
  {
   "cell_type": "code",
   "execution_count": 39,
   "metadata": {},
   "outputs": [
    {
     "name": "stdout",
     "output_type": "stream",
     "text": [
      "MSE : 78699518923.83076\n",
      "R squared : 0.37214366379761354\n"
     ]
    },
    {
     "data": {
      "text/plain": [
       "<function matplotlib.pyplot.show(*args, **kw)>"
      ]
     },
     "execution_count": 39,
     "metadata": {},
     "output_type": "execute_result"
    },
    {
     "data": {
      "image/png": "[encoded data removed]",
      "text/plain": [
       "<Figure size 432x288 with 1 Axes>"
      ]
     },
     "metadata": {
      "needs_background": "light"
     },
     "output_type": "display_data"
    }
   ],
   "source": [
    "X=data['sqft_above'].values[:,np.newaxis]\n",
    "y=data['price'].values\n",
    "X_train,X_test,y_train,y_test = train_test_split(X,y,test_size=0.20,random_state=30)\n",
    "model=LinearRegression()\n",
    "model.fit(X_train, y_train)\n",
    "predicted=model.predict(X_test)\n",
    "print(\"MSE :\",metrics.mean_squared_error(y_test,predicted))\n",
    "print(\"R squared :\",metrics.r2_score(y_test,predicted))\n",
    "plt.scatter(X,y, color='r')\n",
    "plt.title(\"linear regression\")\n",
    "plt.ylabel(\"price\")\n",
    "plt.xlabel(\"sqft_above\")\n",
    "plt.plot(X,model.predict(X),color='k')\n",
    "plt.show"
   ]
  },
  {
   "cell_type": "code",
   "execution_count": 49,
   "metadata": {},
   "outputs": [
    {
     "name": "stdout",
     "output_type": "stream",
     "text": [
      "MSE : 56975438141.3924\n",
      "R squared : 0.5454560544442133\n"
     ]
    }
   ],
   "source": [
    "X=data[['sqft_above','sqft_living','grade']]\n",
    "y=data['price'].values\n",
    "X_train,X_test,y_train,y_test = train_test_split(X,y,test_size=0.20,random_state=30)\n",
    "model=LinearRegression()\n",
    "model.fit(X_train, y_train)\n",
    "predicted=model.predict(X_test)\n",
    "print(\"MSE :\",metrics.mean_squared_error(y_test,predicted))\n",
    "print(\"R squared :\",metrics.r2_score(y_test,predicted))"
   ]
  },
  {
   "cell_type": "code",
   "execution_count": 50,
   "metadata": {},
   "outputs": [
    {
     "name": "stdout",
     "output_type": "stream",
     "text": [
      "MSE : 56975438141.3924\n",
      "R squared : 0.5454560544442133\n"
     ]
    }
   ],
   "source": [
    "X=data[['sqft_above','sqft_living','grade','floors']]\n",
    "y=data['price'].values\n",
    "X_train,X_test,y_train,y_test = train_test_split(X,y,test_size=0.20,random_state=30)\n",
    "model=LinearRegression()\n",
    "model.fit(X_train, y_train)\n",
    "predicted=model.predict(X_test)\n",
    "print(\"MSE :\",metrics.mean_squared_error(y_test,predicted))\n",
    "print(\"R squared :\",metrics.r2_score(y_test,predicted))"
   ]
  },
  {
   "cell_type": "code",
   "execution_count": 51,
   "metadata": {},
   "outputs": [
    {
     "name": "stdout",
     "output_type": "stream",
     "text": [
      "MSE : 56967567451.174675\n",
      "R squared : 0.545518845968114\n"
     ]
    }
   ],
   "source": [
    "X=data[['sqft_above','sqft_living','grade','floors','bathrooms']]\n",
    "y=data['price'].values\n",
    "X_train,X_test,y_train,y_test = train_test_split(X,y,test_size=0.20,random_state=30)\n",
    "model=LinearRegression()\n",
    "model.fit(X_train, y_train)\n",
    "predicted=model.predict(X_test)\n",
    "print(\"MSE :\",metrics.mean_squared_error(y_test,predicted))\n",
    "print(\"R squared :\",metrics.r2_score(y_test,predicted))"
   ]
  },
  {
   "cell_type": "code",
   "execution_count": 52,
   "metadata": {},
   "outputs": [
    {
     "name": "stdout",
     "output_type": "stream",
     "text": [
      "MSE : 55823611933.74399\n",
      "R squared : 0.5546452006113702\n"
     ]
    }
   ],
   "source": [
    "X=data[['sqft_above','sqft_living','grade','floors','bathrooms','bedrooms']]\n",
    "y=data['price'].values\n",
    "X_train,X_test,y_train,y_test = train_test_split(X,y,test_size=0.20,random_state=30)\n",
    "model=LinearRegression()\n",
    "model.fit(X_train, y_train)\n",
    "predicted=model.predict(X_test)\n",
    "print(\"MSE :\",metrics.mean_squared_error(y_test,predicted))\n",
    "print(\"R squared :\",metrics.r2_score(y_test,predicted))"
   ]
  },
  {
   "cell_type": "markdown",
   "metadata": {},
   "source": [
    "###  from these results we can conclude that the values of multi-regression are better and gives more precision comparing with linear regression finally when we add features to the multi regression we receive better values in terms of MSE and R squared\n"
   ]
  },
  {
   "cell_type": "code",
   "execution_count": 57,
   "metadata": {},
   "outputs": [
    {
     "name": "stdout",
     "output_type": "stream",
     "text": [
      "MSE : 48580417741.95768\n",
      "R squared : 0.6124306283985315\n"
     ]
    }
   ],
   "source": [
    "from sklearn.preprocessing import PolynomialFeatures\n",
    "X=data[['sqft_above','sqft_living','grade','floors','bathrooms','bedrooms']]\n",
    "y=data['price'].values\n",
    "X_train,X_test,y_train,y_test = train_test_split(X,y,test_size=0.20,random_state=30)\n",
    "model=LinearRegression()\n",
    "poly=PolynomialFeatures(degree=3)\n",
    "X_train_fit=poly.fit_transform(X_train)\n",
    "model.fit(X_train_fit, y_train)\n",
    "X_test=poly.fit_transform(X_test)\n",
    "predicted=model.predict(X_test)\n",
    "print(\"MSE :\",metrics.mean_squared_error(y_test,predicted))\n",
    "print(\"R squared :\",metrics.r2_score(y_test,predicted))"
   ]
  },
  {
   "cell_type": "markdown",
   "metadata": {},
   "source": [
    "### we can conclude that polynmial regression give us a better results in terms of MSE and R squared than the multi regression and linear regression "
   ]
  },
  {
   "cell_type": "code",
   "execution_count": null,
   "metadata": {},
   "outputs": [],
   "source": []
  }
 ],
 "metadata": {
  "kernelspec": {
   "display_name": "Python 3",
   "language": "python",
   "name": "python3"
  },
  "language_info": {
   "codemirror_mode": {
    "name": "ipython",
    "version": 3
   },
   "file_extension": ".py",
   "mimetype": "text/x-python",
   "name": "python",
   "nbconvert_exporter": "python",
   "pygments_lexer": "ipython3",
   "version": "3.7.4"
  }
 },
 "nbformat": 4,
 "nbformat_minor": 2
}
